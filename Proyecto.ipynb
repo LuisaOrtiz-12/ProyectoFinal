{
  "nbformat": 4,
  "nbformat_minor": 0,
  "metadata": {
    "colab": {
      "name": "Proyecto.ipynb",
      "provenance": [],
      "collapsed_sections": [],
      "authorship_tag": "ABX9TyMLxf9D9VA9NpTQCGStkxm/",
      "include_colab_link": true
    },
    "kernelspec": {
      "name": "python3",
      "display_name": "Python 3"
    },
    "language_info": {
      "name": "python"
    }
  },
  "cells": [
    {
      "cell_type": "markdown",
      "metadata": {
        "id": "view-in-github",
        "colab_type": "text"
      },
      "source": [
        "<a href=\"https://colab.research.google.com/github/LuisaOrtiz-12/ProyectoFinal/blob/main/Proyecto.ipynb\" target=\"_parent\"><img src=\"https://colab.research.google.com/assets/colab-badge.svg\" alt=\"Open In Colab\"/></a>"
      ]
    },
    {
      "cell_type": "code",
      "metadata": {
        "colab": {
          "base_uri": "https://localhost:8080/"
        },
        "id": "cQfpzHDh9uG_",
        "outputId": "95285ec5-b13a-47c9-9ae6-7dea192c8258"
      },
      "source": [
        "!git clone -b main https://github.com/LuisaOrtiz-12/ProyectoFinal"
      ],
      "execution_count": 32,
      "outputs": [
        {
          "output_type": "stream",
          "text": [
            "Cloning into 'ProyectoFinal'...\n",
            "remote: Enumerating objects: 6, done.\u001b[K\n",
            "remote: Counting objects: 100% (6/6), done.\u001b[K\n",
            "remote: Compressing objects: 100% (3/3), done.\u001b[K\n",
            "remote: Total 6 (delta 0), reused 0 (delta 0), pack-reused 0\u001b[K\n",
            "Unpacking objects: 100% (6/6), done.\n"
          ],
          "name": "stdout"
        }
      ]
    },
    {
      "cell_type": "code",
      "metadata": {
        "id": "m9-HdAER-Is2"
      },
      "source": [
        "!git config --global user.name \"Luisa Fernanda Ortiz Ospino\""
      ],
      "execution_count": 33,
      "outputs": []
    },
    {
      "cell_type": "code",
      "metadata": {
        "id": "XNALw19e_P6B"
      },
      "source": [
        "!git config --global user.emil \"lfortizo@correo.udistrital.edu.co\""
      ],
      "execution_count": 34,
      "outputs": []
    },
    {
      "cell_type": "code",
      "metadata": {
        "colab": {
          "base_uri": "https://localhost:8080/"
        },
        "id": "WYuMSGza_W1H",
        "outputId": "d15b37e8-0f1c-43ac-f494-530bf94f83e4"
      },
      "source": [
        "%cd ProyectoFinal/"
      ],
      "execution_count": 35,
      "outputs": [
        {
          "output_type": "stream",
          "text": [
            "/root/ProyectoFinal/ProyectoFinal\n"
          ],
          "name": "stdout"
        }
      ]
    },
    {
      "cell_type": "code",
      "metadata": {
        "id": "gHUXDQer_eKJ"
      },
      "source": [
        "!echo \"en este documento\" > resumen.txt"
      ],
      "execution_count": 36,
      "outputs": []
    },
    {
      "cell_type": "code",
      "metadata": {
        "id": "5MIk3KKSATaL"
      },
      "source": [
        "!git add resumen.txt"
      ],
      "execution_count": 37,
      "outputs": []
    },
    {
      "cell_type": "code",
      "metadata": {
        "colab": {
          "base_uri": "https://localhost:8080/"
        },
        "id": "J8xiptKCAb6Q",
        "outputId": "455e53e9-b98b-4486-efb8-c8ec6c42f5bf"
      },
      "source": [
        "!git status"
      ],
      "execution_count": 38,
      "outputs": [
        {
          "output_type": "stream",
          "text": [
            "On branch main\n",
            "Your branch is up to date with 'origin/main'.\n",
            "\n",
            "Changes to be committed:\n",
            "  (use \"git reset HEAD <file>...\" to unstage)\n",
            "\n",
            "\t\u001b[32mnew file:   resumen.txt\u001b[m\n",
            "\n"
          ],
          "name": "stdout"
        }
      ]
    },
    {
      "cell_type": "code",
      "metadata": {
        "id": "OuUyKisY2fy7"
      },
      "source": [
        "!echo \"en este documento\" > conclusion.txt"
      ],
      "execution_count": 39,
      "outputs": []
    },
    {
      "cell_type": "code",
      "metadata": {
        "id": "jKDlfZwvAdlv"
      },
      "source": [
        "!git add conclusion.txt"
      ],
      "execution_count": 40,
      "outputs": []
    },
    {
      "cell_type": "code",
      "metadata": {
        "colab": {
          "base_uri": "https://localhost:8080/"
        },
        "id": "yoevqH8y1I7P",
        "outputId": "f848f3ce-d34c-46be-e20d-19fdbd7ac5f8"
      },
      "source": [
        "!git status"
      ],
      "execution_count": 41,
      "outputs": [
        {
          "output_type": "stream",
          "text": [
            "On branch main\n",
            "Your branch is up to date with 'origin/main'.\n",
            "\n",
            "Changes to be committed:\n",
            "  (use \"git reset HEAD <file>...\" to unstage)\n",
            "\n",
            "\t\u001b[32mnew file:   conclusion.txt\u001b[m\n",
            "\t\u001b[32mnew file:   resumen.txt\u001b[m\n",
            "\n"
          ],
          "name": "stdout"
        }
      ]
    }
  ]
}